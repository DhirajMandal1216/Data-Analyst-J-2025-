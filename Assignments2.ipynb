{
 "cells": [
  {
   "cell_type": "code",
   "execution_count": null,
   "id": "d4050f4a",
   "metadata": {},
   "outputs": [],
   "source": [
    "\n",
    "1. Variable Manipulation:\n",
    "o Define variables to store a student's name, age, GPA, and list of subjects.\n",
    "o Convert age from years to months and display the result.\n",
    "o Concatenate and print a sentence using all the defined variables."
   ]
  },
  {
   "cell_type": "code",
   "execution_count": 1,
   "id": "fcb5c583",
   "metadata": {},
   "outputs": [],
   "source": [
    "name=\"Dhiraj\""
   ]
  },
  {
   "cell_type": "code",
   "execution_count": 6,
   "id": "81ec715d",
   "metadata": {},
   "outputs": [],
   "source": [
    "Age=22"
   ]
  },
  {
   "cell_type": "code",
   "execution_count": 3,
   "id": "633dcaeb",
   "metadata": {},
   "outputs": [],
   "source": [
    "GPA=8.5"
   ]
  },
  {
   "cell_type": "code",
   "execution_count": 4,
   "id": "9c43d29e",
   "metadata": {},
   "outputs": [],
   "source": [
    "mark=[\"DSA\",\"Python\",\"MongoDB\",\"Tabulu\"]"
   ]
  },
  {
   "cell_type": "code",
   "execution_count": 11,
   "id": "b2358025",
   "metadata": {},
   "outputs": [],
   "source": [
    "months=Age*12"
   ]
  },
  {
   "cell_type": "code",
   "execution_count": 12,
   "id": "518210c1",
   "metadata": {},
   "outputs": [
    {
     "data": {
      "text/plain": [
       "264"
      ]
     },
     "execution_count": 12,
     "metadata": {},
     "output_type": "execute_result"
    }
   ],
   "source": [
    "months"
   ]
  },
  {
   "cell_type": "code",
   "execution_count": 13,
   "id": "caba2058",
   "metadata": {},
   "outputs": [
    {
     "name": "stdout",
     "output_type": "stream",
     "text": [
      "Dhiraj 22 8.5 ['DSA', 'Python', 'MongoDB', 'Tabulu'] 264\n"
     ]
    }
   ],
   "source": [
    "print(name,Age,GPA,mark,months)"
   ]
  },
  {
   "cell_type": "raw",
   "id": "3d8f5226",
   "metadata": {},
   "source": [
    "# Assignment 2: Data Structures - List, Tuple, Set, and Dictionary"
   ]
  },
  {
   "cell_type": "raw",
   "id": "8a3c6813",
   "metadata": {},
   "source": [
    "1. Working with Lists:\n",
    "o Create a list of integers and:\n",
    " Append a new number.\n",
    " Insert a number at a specific index.\n",
    " Remove duplicates and print the final list"
   ]
  },
  {
   "cell_type": "code",
   "execution_count": 14,
   "id": "29517436",
   "metadata": {},
   "outputs": [],
   "source": [
    "numbers=[1,2,3,4,5,6,7]"
   ]
  },
  {
   "cell_type": "code",
   "execution_count": 16,
   "id": "a58bb947",
   "metadata": {},
   "outputs": [],
   "source": [
    "numbers.append(200)"
   ]
  },
  {
   "cell_type": "code",
   "execution_count": 17,
   "id": "019bff6d",
   "metadata": {},
   "outputs": [
    {
     "data": {
      "text/plain": [
       "[1, 2, 3, 4, 5, 6, 7, 200]"
      ]
     },
     "execution_count": 17,
     "metadata": {},
     "output_type": "execute_result"
    }
   ],
   "source": [
    "numbers"
   ]
  },
  {
   "cell_type": "code",
   "execution_count": 18,
   "id": "3ff995f8",
   "metadata": {},
   "outputs": [],
   "source": [
    "numbers.insert(5,500)"
   ]
  },
  {
   "cell_type": "code",
   "execution_count": 20,
   "id": "842bae45",
   "metadata": {},
   "outputs": [
    {
     "data": {
      "text/plain": [
       "[1, 2, 3, 4, 5, 500, 6, 7, 200]"
      ]
     },
     "execution_count": 20,
     "metadata": {},
     "output_type": "execute_result"
    }
   ],
   "source": [
    "numbers"
   ]
  },
  {
   "cell_type": "code",
   "execution_count": 22,
   "id": "93f342c6",
   "metadata": {},
   "outputs": [],
   "source": [
    "numbers.extend([1,4,5,20,7,9,30])"
   ]
  },
  {
   "cell_type": "code",
   "execution_count": 23,
   "id": "5cceb111",
   "metadata": {},
   "outputs": [
    {
     "data": {
      "text/plain": [
       "[1, 2, 3, 4, 5, 500, 6, 7, 200, 1, 4, 5, 20, 7, 9, 30]"
      ]
     },
     "execution_count": 23,
     "metadata": {},
     "output_type": "execute_result"
    }
   ],
   "source": [
    "numbers"
   ]
  },
  {
   "cell_type": "code",
   "execution_count": 26,
   "id": "c6773ffd",
   "metadata": {},
   "outputs": [],
   "source": [
    "num=set(numbers)"
   ]
  },
  {
   "cell_type": "code",
   "execution_count": 27,
   "id": "799b0eae",
   "metadata": {},
   "outputs": [
    {
     "data": {
      "text/plain": [
       "{1, 2, 3, 4, 5, 6, 7, 9, 20, 30, 200, 500}"
      ]
     },
     "execution_count": 27,
     "metadata": {},
     "output_type": "execute_result"
    }
   ],
   "source": [
    "num"
   ]
  },
  {
   "cell_type": "code",
   "execution_count": null,
   "id": "cda67fd5",
   "metadata": {},
   "outputs": [],
   "source": [
    "2. Tuple Manipulation:\n",
    "o Define a tuple of 5 colors.\n",
    "o Try to add a new color to the tuple (observe and explain why it fails).\n",
    "o Convert the tuple to a list, add the color, and convert it back to a tuple."
   ]
  },
  {
   "cell_type": "code",
   "execution_count": 28,
   "id": "b71d313f",
   "metadata": {},
   "outputs": [],
   "source": [
    "color=('RED','YELLOW','GREEN',\"Tomato\",\"Blue\")"
   ]
  },
  {
   "cell_type": "code",
   "execution_count": 29,
   "id": "c892b99d",
   "metadata": {},
   "outputs": [
    {
     "ename": "AttributeError",
     "evalue": "'tuple' object has no attribute 'append'",
     "output_type": "error",
     "traceback": [
      "\u001b[1;31m---------------------------------------------------------------------------\u001b[0m",
      "\u001b[1;31mAttributeError\u001b[0m                            Traceback (most recent call last)",
      "Cell \u001b[1;32mIn [29], line 1\u001b[0m\n\u001b[1;32m----> 1\u001b[0m \u001b[43mcolor\u001b[49m\u001b[38;5;241;43m.\u001b[39;49m\u001b[43mappend\u001b[49m(\u001b[38;5;124m\"\u001b[39m\u001b[38;5;124mSky-blue\u001b[39m\u001b[38;5;124m\"\u001b[39m)\n",
      "\u001b[1;31mAttributeError\u001b[0m: 'tuple' object has no attribute 'append'"
     ]
    }
   ],
   "source": [
    "color.append(\"Sky-blue\")"
   ]
  },
  {
   "cell_type": "code",
   "execution_count": null,
   "id": "ca4516a7",
   "metadata": {},
   "outputs": [],
   "source": [
    "#tuple is unchangable therefore the append function is not work in tuple opration \n",
    "#but if you want to change the tuple then you can convert the tuple to linst and then you can convert the list and \n",
    "#again convert to tuple."
   ]
  },
  {
   "cell_type": "code",
   "execution_count": 30,
   "id": "9847df2b",
   "metadata": {},
   "outputs": [],
   "source": [
    "tupl=list(color)"
   ]
  },
  {
   "cell_type": "code",
   "execution_count": 31,
   "id": "eebd7b04",
   "metadata": {},
   "outputs": [],
   "source": [
    "tupl[1]=\"Orange\""
   ]
  },
  {
   "cell_type": "code",
   "execution_count": 32,
   "id": "5e9f4c79",
   "metadata": {},
   "outputs": [],
   "source": [
    "color=tuple(tupl)"
   ]
  },
  {
   "cell_type": "code",
   "execution_count": 33,
   "id": "183d71b7",
   "metadata": {},
   "outputs": [
    {
     "data": {
      "text/plain": [
       "('RED', 'Orange', 'GREEN', 'Tomato', 'Blue')"
      ]
     },
     "execution_count": 33,
     "metadata": {},
     "output_type": "execute_result"
    }
   ],
   "source": [
    "color"
   ]
  },
  {
   "cell_type": "code",
   "execution_count": null,
   "id": "788006dd",
   "metadata": {},
   "outputs": [],
   "source": []
  },
  {
   "cell_type": "code",
   "execution_count": null,
   "id": "aa145ed8",
   "metadata": {},
   "outputs": [],
   "source": [
    "3. Set Operations:\n",
    "o Create two sets of random numbers.\n",
    "o Find and print their union, intersection, and difference.\n",
    "o Remove one element from the first set and add a new element."
   ]
  },
  {
   "cell_type": "code",
   "execution_count": 34,
   "id": "20a537d3",
   "metadata": {},
   "outputs": [],
   "source": [
    "s1={1,9,3,6,5}\n",
    "s2={1,3,6,4,2,8}"
   ]
  },
  {
   "cell_type": "code",
   "execution_count": 35,
   "id": "02b93b18",
   "metadata": {},
   "outputs": [
    {
     "data": {
      "text/plain": [
       "{1, 2, 3, 4, 5, 6, 8, 9}"
      ]
     },
     "execution_count": 35,
     "metadata": {},
     "output_type": "execute_result"
    }
   ],
   "source": [
    "s1.union(s2)"
   ]
  },
  {
   "cell_type": "code",
   "execution_count": 36,
   "id": "dff7437c",
   "metadata": {},
   "outputs": [
    {
     "data": {
      "text/plain": [
       "{1, 3, 6}"
      ]
     },
     "execution_count": 36,
     "metadata": {},
     "output_type": "execute_result"
    }
   ],
   "source": [
    "s1.intersection(s2)"
   ]
  },
  {
   "cell_type": "code",
   "execution_count": 38,
   "id": "7c79b0f8",
   "metadata": {},
   "outputs": [
    {
     "data": {
      "text/plain": [
       "{5, 9}"
      ]
     },
     "execution_count": 38,
     "metadata": {},
     "output_type": "execute_result"
    }
   ],
   "source": [
    "s1.difference(s2)"
   ]
  },
  {
   "cell_type": "code",
   "execution_count": null,
   "id": "ccfee4e3",
   "metadata": {},
   "outputs": [],
   "source": []
  },
  {
   "cell_type": "code",
   "execution_count": null,
   "id": "c92acd38",
   "metadata": {},
   "outputs": [],
   "source": [
    "4. Dictionary Practice:\n",
    "o Define a dictionary for a library system with book titles as keys and available \n",
    "copies as values.\n",
    "o Update the count of a specific book after it is borrowed.\n",
    "o Add a new book to the dictionary and print the updated dictionary."
   ]
  },
  {
   "cell_type": "code",
   "execution_count": 39,
   "id": "ead63bbd",
   "metadata": {},
   "outputs": [],
   "source": [
    "dict={'Maths':2,'Science':5,\"python\":6,\"react\":5}"
   ]
  },
  {
   "cell_type": "code",
   "execution_count": 41,
   "id": "be9e8413",
   "metadata": {},
   "outputs": [],
   "source": [
    "dict['Science']=4"
   ]
  },
  {
   "cell_type": "code",
   "execution_count": 42,
   "id": "46105159",
   "metadata": {},
   "outputs": [
    {
     "data": {
      "text/plain": [
       "{'Maths': 2, 'Science': 4, 'python': 6, 'react': 5}"
      ]
     },
     "execution_count": 42,
     "metadata": {},
     "output_type": "execute_result"
    }
   ],
   "source": [
    "dict"
   ]
  },
  {
   "cell_type": "code",
   "execution_count": 43,
   "id": "e90041b8",
   "metadata": {},
   "outputs": [],
   "source": [
    "dict['java']=5"
   ]
  },
  {
   "cell_type": "code",
   "execution_count": 44,
   "id": "e06cdfbd",
   "metadata": {},
   "outputs": [
    {
     "data": {
      "text/plain": [
       "{'Maths': 2, 'Science': 4, 'python': 6, 'react': 5, 'java': 5}"
      ]
     },
     "execution_count": 44,
     "metadata": {},
     "output_type": "execute_result"
    }
   ],
   "source": [
    "dict"
   ]
  }
 ],
 "metadata": {
  "kernelspec": {
   "display_name": "Python 3 (ipykernel)",
   "language": "python",
   "name": "python3"
  },
  "language_info": {
   "codemirror_mode": {
    "name": "ipython",
    "version": 3
   },
   "file_extension": ".py",
   "mimetype": "text/x-python",
   "name": "python",
   "nbconvert_exporter": "python",
   "pygments_lexer": "ipython3",
   "version": "3.10.6"
  }
 },
 "nbformat": 4,
 "nbformat_minor": 5
}
