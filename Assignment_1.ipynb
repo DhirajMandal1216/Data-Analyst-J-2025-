{
 "cells": [
  {
   "cell_type": "code",
   "execution_count": null,
   "id": "1decc6ce",
   "metadata": {},
   "outputs": [],
   "source": [
    "1.How would you convert one data type to another in Python? For example, an integer to a \n",
    "string"
   ]
  },
  {
   "cell_type": "code",
   "execution_count": 2,
   "id": "6a4ef445",
   "metadata": {},
   "outputs": [],
   "source": [
    "a=15"
   ]
  },
  {
   "cell_type": "code",
   "execution_count": 3,
   "id": "b9c3d9ab",
   "metadata": {},
   "outputs": [
    {
     "data": {
      "text/plain": [
       "15"
      ]
     },
     "execution_count": 3,
     "metadata": {},
     "output_type": "execute_result"
    }
   ],
   "source": [
    "a"
   ]
  },
  {
   "cell_type": "code",
   "execution_count": 4,
   "id": "074672f7",
   "metadata": {},
   "outputs": [
    {
     "data": {
      "text/plain": [
       "'15'"
      ]
     },
     "execution_count": 4,
     "metadata": {},
     "output_type": "execute_result"
    }
   ],
   "source": [
    "str(a)"
   ]
  },
  {
   "cell_type": "code",
   "execution_count": 5,
   "id": "726cb1ec",
   "metadata": {},
   "outputs": [],
   "source": [
    "f=1.5"
   ]
  },
  {
   "cell_type": "code",
   "execution_count": 6,
   "id": "1d3ac93b",
   "metadata": {},
   "outputs": [
    {
     "data": {
      "text/plain": [
       "1"
      ]
     },
     "execution_count": 6,
     "metadata": {},
     "output_type": "execute_result"
    }
   ],
   "source": [
    "int(f)"
   ]
  },
  {
   "cell_type": "code",
   "execution_count": null,
   "id": "7715b6f3",
   "metadata": {},
   "outputs": [],
   "source": [
    " 2.  What is the difference between == and = in Python?"
   ]
  },
  {
   "cell_type": "code",
   "execution_count": null,
   "id": "5f066bb5",
   "metadata": {},
   "outputs": [],
   "source": [
    "== is used to compare the values of two variables and = is used to assign the value to the variable"
   ]
  },
  {
   "cell_type": "code",
   "execution_count": null,
   "id": "2a294afb",
   "metadata": {},
   "outputs": [],
   "source": [
    "3. How does the modulus operator (%) work in Python?"
   ]
  },
  {
   "cell_type": "code",
   "execution_count": null,
   "id": "4ea918fe",
   "metadata": {},
   "outputs": [],
   "source": [
    "modulus operator (%) are used to find the remainder of division of two variables"
   ]
  },
  {
   "cell_type": "markdown",
   "id": "5c4e5750",
   "metadata": {},
   "source": [
    "# 4. What is type casting, and why is it important in Python?"
   ]
  },
  {
   "cell_type": "code",
   "execution_count": null,
   "id": "49a39c3b",
   "metadata": {},
   "outputs": [],
   "source": [
    "type casting is a process to convert one data type to another datatype and it is important to perform various opration using \n",
    "diffrent data types."
   ]
  },
  {
   "cell_type": "markdown",
   "id": "3079a6a0",
   "metadata": {},
   "source": [
    "# 5. What will be the output of 3 * \"Hello\" in Python? Explain why."
   ]
  },
  {
   "cell_type": "code",
   "execution_count": null,
   "id": "578f1f49",
   "metadata": {},
   "outputs": [],
   "source": [
    "the output is HelloHelloHello because this is the concept of oprator overloading where \n",
    "1. * in integer means multiply the number\n",
    "2. *in string means repete the string"
   ]
  }
 ],
 "metadata": {
  "kernelspec": {
   "display_name": "Python 3 (ipykernel)",
   "language": "python",
   "name": "python3"
  },
  "language_info": {
   "codemirror_mode": {
    "name": "ipython",
    "version": 3
   },
   "file_extension": ".py",
   "mimetype": "text/x-python",
   "name": "python",
   "nbconvert_exporter": "python",
   "pygments_lexer": "ipython3",
   "version": "3.10.6"
  }
 },
 "nbformat": 4,
 "nbformat_minor": 5
}
